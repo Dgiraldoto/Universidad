{
  "nbformat": 4,
  "nbformat_minor": 0,
  "metadata": {
    "colab": {
      "provenance": [],
      "collapsed_sections": []
    },
    "kernelspec": {
      "name": "python3",
      "display_name": "Python 3"
    },
    "language_info": {
      "name": "python"
    }
  },
  "cells": [
    {
      "cell_type": "code",
      "execution_count": 6,
      "metadata": {
        "colab": {
          "base_uri": "https://localhost:8080/"
        },
        "id": "EzD-4OpgbA3x",
        "outputId": "cd3d6f46-b826-4c9a-afc3-7adf4fc7a62a"
      },
      "outputs": [
        {
          "output_type": "stream",
          "name": "stdout",
          "text": [
            "Ingrese un numero: 2\n",
            "La sumatoria de 0 a 2 es: 3 \n"
          ]
        }
      ],
      "source": [
        "a=int(input(\"digite su numero:\")) #pide que introduscamos un numero para ejecutar el programa\n",
        "suma=0 #necesitamos una variable que acumule la suma final de todos los numeros pares entre 0 y a\n",
        "numeros_pares=[] #esto es para almacenar la lista de los numeros pares entre 0 y a, para mostrar que es lo que se suma\n",
        "if (a%2==0): #condicion para identificar si el numero a ingresado es par o no\n",
        "  for i in range(0,a+1): # al ser el numero par se procede a hacer un ciclo entre los numeros en el rango de 0 hasta a+1 donde i toma cada uno de esos valores\n",
        "    if (i%2==0): #en esta parte se coloca una condicion para solo seleccionar los numeros pares entre 0 y a+1\n",
        "      numeros_pares.append(i) #los numeros pares se almacenan aca para mostrar la lista de lo que se suma\n",
        "      suma+=i # se suma cada numero par asi hasta llegar al maximo que seria a\n",
        "  print(\"el numero es par\") # nos imprime que el numero a es par\n",
        "  print(f\"los numeros pares entre 0 y {a} son:{numeros_pares}\") #se nos muestra la lista de los numeros pares entre 0 y a+1 almacenados previamente\n",
        "  print(f\"la suma de los numeros pares entre 0 y {a} es:\",suma) #nos imprime la suma entre los numeros pares\n",
        "else: # aqui es cuando el valor a es un numero cuyo residuo de division es diferente de 0\n",
        "  print(\"el numero es impar\") # imprime el numero es impar"
      ]
    }
  ]
}