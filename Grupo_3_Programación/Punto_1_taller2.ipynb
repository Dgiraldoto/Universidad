{
  "nbformat": 4,
  "nbformat_minor": 0,
  "metadata": {
    "colab": {
      "provenance": []
    },
    "kernelspec": {
      "name": "python3",
      "display_name": "Python 3"
    },
    "language_info": {
      "name": "python"
    }
  },
  "cells": [
    {
      "cell_type": "code",
      "execution_count": null,
      "metadata": {
        "id": "EzD-4OpgbA3x"
      },
      "outputs": [],
      "source": [
        "a=int(input(\"Digite su numero:\")) #variable que permite introducir el numero del usuario\n",
        "if (a%2==0): #condicional que permite dar respuesta si se cumple dicha operacion\n",
        "  print(\"Su numero es par.\") #si la operacion es correcta se imprime esto al usuario\n",
        "else: #condicional que permite dar respuesta si no se cumple la operacion anterior\n",
        "  print(\"Su numero es impar.\") #al no cumplirse la operacion se imprime esto al usuario"
      ]
    }
  ]
}