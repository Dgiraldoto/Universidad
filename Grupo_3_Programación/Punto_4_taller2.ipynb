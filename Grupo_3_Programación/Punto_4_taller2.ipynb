{
  "nbformat": 4,
  "nbformat_minor": 0,
  "metadata": {
    "colab": {
      "provenance": [],
      "collapsed_sections": []
    },
    "kernelspec": {
      "name": "python3",
      "display_name": "Python 3"
    },
    "language_info": {
      "name": "python"
    }
  },
  "cells": [
    {
      "cell_type": "code",
      "execution_count": 6,
      "metadata": {
        "colab": {
          "base_uri": "https://localhost:8080/"
        },
        "id": "EzD-4OpgbA3x",
        "outputId": "cd3d6f46-b826-4c9a-afc3-7adf4fc7a62a"
      },
      "outputs": [
        {
          "output_type": "stream",
          "name": "stdout",
          "text": [
            "Ingrese un numero: 2\n",
            "La sumatoria de 0 a 2 es: 3 \n"
          ]
        }
      ],
      "source": [
        "num=int(input(\"Ingrese un numero: \")) # VARIABLE QUE ALMACENARÁ UN NUMERO IGRESADO POR TECLADO.\n",
        "suma=0                                # VARIABLE QUE ALMACENARÁ LA SUMATORIA DESDE CERO A UN NUMERO (num)\n",
        "for i  in range(0,(num+1)):           # DEFINICION DEL CICLO FOR E INCREMENTO DEL ITERADOR \"i\" en 1 HASTA num+1\n",
        "  suma+=i                          # LA VARIABLE \"suma\" ALMACENA LA SUMA DE LOS VALORES DE \"i\" PARA CADA CICLO  \n",
        "print(f\"La sumatoria de 0 a {num} es: {suma} \") # IMPRESION DE LOS VALORES DE LAS VARIABLES."
      ]
    }
  ]
}