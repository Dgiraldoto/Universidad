{
  "nbformat": 4,
  "nbformat_minor": 0,
  "metadata": {
    "colab": {
      "provenance": []
    },
    "kernelspec": {
      "name": "python3",
      "display_name": "Python 3"
    },
    "language_info": {
      "name": "python"
    }
  },
  "cells": [
    {
      "cell_type": "markdown",
      "source": [
        "Escribir un programa que pregunte al usuario su nombre, edad, dirección y teléfono, guarde la información en un diccionario.\n",
        " Después debe mostrar por pantalla el mensaje:\n",
        "<nombre> tiene <edad> años, vive en <dirección> y su número de teléfono es <teléfono>."
      ],
      "metadata": {
        "id": "0Z7EpCaU-b3o"
      }
    },
    {
      "cell_type": "code",
      "source": [
        "a=0 #Se establecen las variables y se igualan a 0\n",
        "b=0#Se establecen las variables y se igualan a 0\n",
        "print(\"Ingrese la fecha actual:\") #En esta seccion se inserta la fecha actual en dia, mes, año para realizar el calculo de forma acertada\n",
        "dia1=int(input(\"Dia: \"))\n",
        "mes1=int(input(\"Mes(numero): \"))\n",
        "año1=int(input(\"Año: \")) \n",
        "a=(dia1+(mes1*30)+((año1-1)*12*30)) #Se realizan las operaciones pertinentes para saber la cantidad de dias desde 0 hasta la fecha actual\n",
        "print(\"Ingrese la fecha de nacimiento:\") #En esta seccion se inserta la fecha de nacimiento del usuario para compararla con la actual\n",
        "dia=int(input(\"Dia: \"))\n",
        "mes=int(input(\"Mes(numero): \"))\n",
        "año=int(input(\"Año: \"))\n",
        "b=(dia+(mes*30)+((año-1)*12*30)) #Se realizan las operaciones pertinentes para saber la cantidad de dias totales desde 0 hasta la fecha de nacimiento\n",
        "dias={1:'domingo',2:'lunes',3:'martes',4:'miercoles',5:'jueves',6:'viernes',7:'sabado',8:'domingo',9:'lunes',10:'martes',11:'miercoles',12:'jueves',13:'viernes',14:'sabado',15:'domingo',16:'lunes',17:'martes',18:'miercoles',19:'jueves',20:'viernes',21:'sabado',22:'domingo',23:'lunes',24:'martes',25:'miercoles',26:'jueves',27:'viernes',28:'sabado',29:'domingo',30:'lunes'}\n",
        "meses={1:'enero',2:'febrero',3:'marzo',4:'abril',5:'mayo',6:'junio',7:'julio',8:'agosto',9:'septiembre',10:'octubre',11:'noviembre',12:'diciembre'} #Se establecen dos dictados con la cantidad de dias en un mes y respectivamente la cantidad de meses en un año\n",
        "print(\"Su fecha de nacimiento es: \",dias[dia],\"/\",meses[mes],\"/\",año) #Se imprime la fecha de nacimiento del usuario en texto\n",
        "print(\"Usted tiene actualmente \",a-b,\" dias\") #Se imprime los dias de vida totales del usuario al restar los dias hasta la fecha actual de los de la fecha de nacimiento"
      ],
      "metadata": {
        "colab": {
          "base_uri": "https://localhost:8080/"
        },
        "id": "CQlwxwHNkiG1",
        "outputId": "6835463a-6067-4ee3-a8e0-7371346857e8"
      },
      "execution_count": null,
      "outputs": [
        {
          "output_type": "stream",
          "name": "stdout",
          "text": [
            "Ingrese la fecha actual:\n",
            "Dia: 27\n",
            "Mes(numero): 10\n",
            "Año: 2022\n",
            "Ingrese la fecha de nacimiento:\n",
            "Dia: 8\n",
            "Mes(numero): 2\n",
            "Año: 2005\n",
            "Su fecha de nacimiento es:  domingo / febrero / 2005\n",
            "Usted tiene actualmente  6379  dias\n"
          ]
        }
      ]
    },
    {
      "cell_type": "markdown",
      "source": [
        "Escribir un programa que pregunte una fecha actual y de nacimiento ‘dd/mm/aaaa’ y muestre por pantalla la misma fecha en formato “dia/mes/aaaa” y sus días de vida son <####>\n",
        "no tenga en cuenta años bisiestos, \n"
      ],
      "metadata": {
        "id": "PokDFbAT-mPF"
      }
    },
    {
      "cell_type": "code",
      "source": [
        "lista={} #Se declaran los dictados vacios\n",
        "dicaux={}\n",
        "pos=0 #Se declaran las variables igualadas a 0\n",
        "v=0\n",
        "datos=str(input(\"Digite sus datos en orden separados por coma:Nombre,edad,direccion,telefono \\n\")) #Se le pide al usuario ingresar los datos necesarios\n",
        "for i in range(0,len(datos)): #Se realiza un ciclo For en donde se iteran cada uno de los datos suministrados por el usuario\n",
        "  if(datos[i]==\",\"): #Se realiza una condicion en donde los datos iterados deben ser separdos por comas\n",
        "      v+=1 #si es asi se le suma 1 a la variable v\n",
        "      lista[v]=datos[(pos+1):i] #Se indexa la variable v en lista y se iguala a la variable datos que a su vez suma 1 a la variable pos dependiendo el resultado de la iteracion\n",
        "      pos=i #Se iguala la variable pos a la iteracion realizada \n",
        "      \n",
        "dicaux[(v+1)]=datos[(pos+1):len(datos)] #Se indexa la variable v mas 1 a dicaux y se iguala a la variable datos que a su vez suma 1 a la variaple pos dependiendo la cantidad de datos que se encuentren en la variable datos\n",
        "lista.update(dicaux) #Se agregan todos los datos de dicaux a lista\n",
        "\n",
        "print(f\"nombre:{lista.get(1)} edad:{lista.get(2)} direccion:{lista.get(3)} telefono:{lista.get(4)}\") #Se imprimen los datos de lista uno seguido de otro con .get asignado a una clave para cada uno"
      ],
      "metadata": {
        "colab": {
          "base_uri": "https://localhost:8080/"
        },
        "id": "HgODHYD41qnh",
        "outputId": "919f9e1d-52f3-4d8b-cb49-1192c74f55a2"
      },
      "execution_count": null,
      "outputs": [
        {
          "output_type": "stream",
          "name": "stdout",
          "text": [
            "Digite sus datos en orden separados por coma:Nombre,edad,direccion,telefono \n",
            "nicolas, 17, suba, 1234\n",
            "nombre:icolas edad: 17 direccion: suba telefono: 1234\n"
          ]
        }
      ]
    },
    {
      "cell_type": "markdown",
      "source": [
        "Escribir un programa que administre un dictado de dictados, {1:{},2:{},,,,,,,#:{}}.\n",
        "Debe preguntar a cada usuario, tres datos (los que definan), y a partir de estos crear un dictado por usuario.\n",
        "El dictado será de esta manera:\n",
        "La clave será un entero respectivo al orden en que el usuario ingresa los datos.\n",
        "El valor será un dictado con los tres datos del usuario elegidos.\n",
        "{‘dato1’:857,‘dato2’:True,‘dato3’:’dffd’}\n",
        "Ejemplo:\n",
        "{0:{‘dato1’:857,‘dato2’:True,‘dato3’:’dffd’},1:{‘dato1’:857,‘dato2’:True,‘dato3’:’dffd’},,,,,,,30:{}}\n",
        "Al final el programa imprimirá el primer(mínimo) usuario y el último(máximo) usuario con sus respectivos datos.\n"
      ],
      "metadata": {
        "id": "ay_fMtxA-paW"
      }
    },
    {
      "cell_type": "code",
      "source": [
        "dicGen={} #Se crea el dictado vacio\n",
        "x=1 #Se declara la variable x y se iguala a 1\n",
        "while x!=0: #Se realiza un ciclo while que se cumple si x es distinto de 0\n",
        "  us=int(input(\"\\nIngrese un usuario: \")) #Se le pide al usuario ingesar un usuario\n",
        "  dicInter={} #Se crea otro dictado vacio\n",
        "  dato1=int(input(\"  Ingrese un valor entero: \")) #Se le pide al usuario ingesar un valor entero\n",
        "  dicInter[\"dato1\"]=dato1 #Se ingresa el dato 1 a dicInter y se iguala al mismo dato\n",
        "  dato2=bool(input(\"  Ingrese 'True' o 'False': \")) #Se le pide al usuario ingesar un condicional\n",
        "  dicInter[\"dato2\"]=dato2 #Se ingresa el dato 2 a dicInter y se iguala al mismo dato\n",
        "  dato3=(input(\"  Ingrese una palabra: \")) #Se le pide al usuario ingesar una palabra cualquiera\n",
        "  dicInter[\"dato3\"]=dato3 #Se ingresa el dato 3 a dicInter y se iguala al mismo dato\n",
        "  dicGen[us]=dicInter # Se ingresa la variable us a dicGen y se iguala a dicInter\n",
        "  x=int(input(\"¿Desea ingresar otro usuario? Si(1) No(0)\")) #Se le pregunta al usuario si desea continuar siendo 1 que si y 0 que no, si dice que no el ciclo while finalizara\n",
        "y,z=min(dicGen),max(dicGen) #Se declara la variable y, z que indica el maximo y minimo de dicGen\n",
        "print(f\"\\nMin ==> {y}:{dicGen[y]}\") #Se imprime con la funcion Min el valor minimo de dicGen respecto a y\n",
        "print(f\"Max ==> {z}:{dicGen[z]}\") #Se imprime con la funcion Max el valor minimo de dicGen respecto a z"
      ],
      "metadata": {
        "colab": {
          "base_uri": "https://localhost:8080/"
        },
        "id": "vmR8_Zv99KLK",
        "outputId": "37c62bd3-3c65-46ff-8f8a-8ec02663c850"
      },
      "execution_count": null,
      "outputs": [
        {
          "output_type": "stream",
          "name": "stdout",
          "text": [
            "\n",
            "Ingrese un usuario: 1\n",
            "  Ingrese un valor entero: 23\n",
            "  Ingrese 'True' o 'False': True\n",
            "  Ingrese una palabra: hola\n",
            "¿Desea ingresar otro usuario? Si(1) No(0)1\n",
            "\n",
            "Ingrese un usuario: 4\n",
            "  Ingrese un valor entero: 43\n",
            "  Ingrese 'True' o 'False': False\n",
            "  Ingrese una palabra: tetero\n",
            "¿Desea ingresar otro usuario? Si(1) No(0)0\n",
            "\n",
            "Min ==> 1:{'dato1': 23, 'dato2': True, 'dato3': 'hola'}\n",
            "Max ==> 4:{'dato1': 43, 'dato2': True, 'dato3': 'tetero'}\n"
          ]
        }
      ]
    }
  ]
}